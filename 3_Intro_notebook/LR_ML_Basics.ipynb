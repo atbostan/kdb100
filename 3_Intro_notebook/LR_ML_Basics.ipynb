{
  "cells": [
    {
      "cell_type": "markdown",
      "source": [
        "## Sklearn ile C to F ilişikisini Bulalım."
      ],
      "metadata": {
        "nteract": {
          "transient": {
            "deleting": false
          }
        }
      }
    },
    {
      "cell_type": "code",
      "source": [
        "import numpy as np\r\n",
        "import pandas as pd\r\n",
        "import matplotlib.pyplot as plt\r\n",
        "\r\n",
        "from sklearn.linear_model import LinearRegression\r\n",
        "from sklearn.model_selection import  train_test_split\r\n",
        "from sklearn.metrics import mean_squared_error, mean_absolute_error"
      ],
      "outputs": [],
      "execution_count": 1,
      "metadata": {
        "jupyter": {
          "source_hidden": false,
          "outputs_hidden": false
        },
        "nteract": {
          "transient": {
            "deleting": false
          }
        },
        "gather": {
          "logged": 1649767191444
        }
      }
    },
    {
      "cell_type": "markdown",
      "source": [
        "### Veri Türetelim"
      ],
      "metadata": {
        "nteract": {
          "transient": {
            "deleting": false
          }
        }
      }
    },
    {
      "cell_type": "code",
      "source": [
        "#F = 1.8C + 32\r\n",
        "exMetin = \"\"\"\r\n",
        "25\t77\r\n",
        "20\t68\r\n",
        "12\t53.6\r\n",
        "45\t113\r\n",
        "78\t172.4\r\n",
        "18\t64.4\r\n",
        "16\t60.8\r\n",
        "8\t46.4\r\n",
        "23\t73.4\r\n",
        "55\t131\r\n",
        "34.13333333\t93.44\r\n",
        "34.88484848\t94.79272727\r\n",
        "35.63636364\t96.14545455\r\n",
        "36.38787879\t97.49818182\r\n",
        "37.13939394\t98.85090909\r\n",
        "37.89090909\t100.2036364\r\n",
        "38.64242424\t101.5563636\r\n",
        "\"\"\""
      ],
      "outputs": [],
      "execution_count": 2,
      "metadata": {
        "jupyter": {
          "source_hidden": false,
          "outputs_hidden": false
        },
        "nteract": {
          "transient": {
            "deleting": false
          }
        },
        "gather": {
          "logged": 1649767191544
        }
      }
    },
    {
      "cell_type": "code",
      "source": [
        "veri = np.array([s.split(\"\\t\") for s in exMetin.splitlines() if s])\r\n",
        "veri.shape\r\n",
        "\r\n",
        "veri = veri.astype(float)\r\n",
        "veri"
      ],
      "outputs": [
        {
          "output_type": "execute_result",
          "execution_count": 3,
          "data": {
            "text/plain": "array([[ 25.        ,  77.        ],\n       [ 20.        ,  68.        ],\n       [ 12.        ,  53.6       ],\n       [ 45.        , 113.        ],\n       [ 78.        , 172.4       ],\n       [ 18.        ,  64.4       ],\n       [ 16.        ,  60.8       ],\n       [  8.        ,  46.4       ],\n       [ 23.        ,  73.4       ],\n       [ 55.        , 131.        ],\n       [ 34.13333333,  93.44      ],\n       [ 34.88484848,  94.79272727],\n       [ 35.63636364,  96.14545455],\n       [ 36.38787879,  97.49818182],\n       [ 37.13939394,  98.85090909],\n       [ 37.89090909, 100.2036364 ],\n       [ 38.64242424, 101.5563636 ]])"
          },
          "metadata": {}
        }
      ],
      "execution_count": 3,
      "metadata": {
        "jupyter": {
          "source_hidden": false,
          "outputs_hidden": false
        },
        "nteract": {
          "transient": {
            "deleting": false
          }
        },
        "gather": {
          "logged": 1649767191655
        }
      }
    },
    {
      "cell_type": "markdown",
      "source": [
        "### Train ve Test olarak ayıralım"
      ],
      "metadata": {
        "nteract": {
          "transient": {
            "deleting": false
          }
        }
      }
    },
    {
      "cell_type": "code",
      "source": [
        "# y = f(X) = mx + b\r\n",
        "X = veri[:,0]\r\n",
        "X = X[:, np.newaxis]#algoritma 2 boyut istiyordu.\r\n",
        "\r\n",
        "#\r\n",
        "y = veri[:,1]\r\n",
        "y\r\n",
        "\r\n",
        "#train ve test olarak\r\n",
        "X_train, X_test, y_train, y_test = train_test_split(X,y,random_state=1, test_size=0.2)"
      ],
      "outputs": [],
      "execution_count": 4,
      "metadata": {
        "jupyter": {
          "source_hidden": false,
          "outputs_hidden": false
        },
        "nteract": {
          "transient": {
            "deleting": false
          }
        },
        "gather": {
          "logged": 1649767191774
        }
      }
    },
    {
      "cell_type": "markdown",
      "source": [
        "#### Modeli eğitelim"
      ],
      "metadata": {
        "nteract": {
          "transient": {
            "deleting": false
          }
        }
      }
    },
    {
      "cell_type": "code",
      "source": [
        "%%time\r\n",
        "\r\n",
        "model = LinearRegression() #estimator\r\n",
        "\r\n",
        "#\r\n",
        "model.fit(X_train, y_train) #eğitim"
      ],
      "outputs": [
        {
          "output_type": "stream",
          "name": "stdout",
          "text": "CPU times: user 940 µs, sys: 0 ns, total: 940 µs\nWall time: 748 µs\n"
        },
        {
          "output_type": "execute_result",
          "execution_count": 5,
          "data": {
            "text/plain": "LinearRegression(copy_X=True, fit_intercept=True, n_jobs=None, normalize=False)"
          },
          "metadata": {}
        }
      ],
      "execution_count": 5,
      "metadata": {
        "jupyter": {
          "source_hidden": false,
          "outputs_hidden": false
        },
        "nteract": {
          "transient": {
            "deleting": false
          }
        }
      }
    },
    {
      "cell_type": "code",
      "source": [
        "print(f\"y = {model.coef_}x + {model.intercept_}\")"
      ],
      "outputs": [
        {
          "output_type": "stream",
          "name": "stdout",
          "text": "y = [1.8]x + 32.00000000124479\n"
        }
      ],
      "execution_count": 6,
      "metadata": {
        "jupyter": {
          "source_hidden": false,
          "outputs_hidden": false
        },
        "nteract": {
          "transient": {
            "deleting": false
          }
        },
        "gather": {
          "logged": 1649767192027
        }
      }
    },
    {
      "cell_type": "markdown",
      "source": [
        "### Tahmin Edelim"
      ],
      "metadata": {
        "nteract": {
          "transient": {
            "deleting": false
          }
        }
      }
    },
    {
      "cell_type": "code",
      "source": [
        "y_test_predict = model.predict(X_test)"
      ],
      "outputs": [],
      "execution_count": 9,
      "metadata": {
        "jupyter": {
          "source_hidden": false,
          "outputs_hidden": false
        },
        "nteract": {
          "transient": {
            "deleting": false
          }
        },
        "gather": {
          "logged": 1649767258788
        }
      }
    },
    {
      "cell_type": "code",
      "source": [
        "pd.DataFrame(zip(y_test, y_test_predict), columns=[\"y_test\",\"y_test_predict\"])"
      ],
      "outputs": [
        {
          "output_type": "execute_result",
          "execution_count": 13,
          "data": {
            "text/plain": "       y_test  y_test_predict\n0  113.000000      113.000000\n1   97.498182       97.498182\n2   46.400000       46.400000\n3   53.600000       53.600000",
            "text/html": "<div>\n<style scoped>\n    .dataframe tbody tr th:only-of-type {\n        vertical-align: middle;\n    }\n\n    .dataframe tbody tr th {\n        vertical-align: top;\n    }\n\n    .dataframe thead th {\n        text-align: right;\n    }\n</style>\n<table border=\"1\" class=\"dataframe\">\n  <thead>\n    <tr style=\"text-align: right;\">\n      <th></th>\n      <th>y_test</th>\n      <th>y_test_predict</th>\n    </tr>\n  </thead>\n  <tbody>\n    <tr>\n      <th>0</th>\n      <td>113.000000</td>\n      <td>113.000000</td>\n    </tr>\n    <tr>\n      <th>1</th>\n      <td>97.498182</td>\n      <td>97.498182</td>\n    </tr>\n    <tr>\n      <th>2</th>\n      <td>46.400000</td>\n      <td>46.400000</td>\n    </tr>\n    <tr>\n      <th>3</th>\n      <td>53.600000</td>\n      <td>53.600000</td>\n    </tr>\n  </tbody>\n</table>\n</div>"
          },
          "metadata": {}
        }
      ],
      "execution_count": 13,
      "metadata": {
        "jupyter": {
          "source_hidden": false,
          "outputs_hidden": false
        },
        "nteract": {
          "transient": {
            "deleting": false
          }
        },
        "gather": {
          "logged": 1649767302002
        }
      }
    },
    {
      "cell_type": "markdown",
      "source": [
        "### Evaluate"
      ],
      "metadata": {
        "nteract": {
          "transient": {
            "deleting": false
          }
        }
      }
    },
    {
      "cell_type": "code",
      "source": [
        "mean_squared_error(y_test, y_test_predict)"
      ],
      "outputs": [
        {
          "output_type": "execute_result",
          "execution_count": 14,
          "data": {
            "text/plain": "3.3359428066682095e-18"
          },
          "metadata": {}
        }
      ],
      "execution_count": 14,
      "metadata": {
        "jupyter": {
          "source_hidden": false,
          "outputs_hidden": false
        },
        "nteract": {
          "transient": {
            "deleting": false
          }
        },
        "gather": {
          "logged": 1649767350858
        }
      }
    },
    {
      "cell_type": "markdown",
      "source": [
        "### Görselleştirelim"
      ],
      "metadata": {
        "nteract": {
          "transient": {
            "deleting": false
          }
        }
      }
    },
    {
      "cell_type": "code",
      "source": [
        "plt.scatter(X_test, y_test, color=\"red\", marker=\"*\")\r\n",
        "plt.scatter(X_train,y_train,color=\"black\", marker=\"^\")\r\n",
        "\r\n",
        "plt.plot(X_test, y_test_predict)\r\n",
        "\r\n",
        "plt.show()"
      ],
      "outputs": [
        {
          "output_type": "display_data",
          "data": {
            "text/plain": "<Figure size 432x288 with 1 Axes>",
            "image/png": "[encoded data removed]"
          },
          "metadata": {
            "needs_background": "light"
          }
        }
      ],
      "execution_count": 22,
      "metadata": {
        "jupyter": {
          "source_hidden": false,
          "outputs_hidden": false
        },
        "nteract": {
          "transient": {
            "deleting": false
          }
        },
        "gather": {
          "logged": 1649767555182
        }
      }
    },
    {
      "cell_type": "markdown",
      "source": [
        "### Eğittiğimiz modeli kaydedelim"
      ],
      "metadata": {
        "nteract": {
          "transient": {
            "deleting": false
          }
        }
      }
    },
    {
      "cell_type": "code",
      "source": [
        "model.get_params()"
      ],
      "outputs": [
        {
          "output_type": "execute_result",
          "execution_count": 25,
          "data": {
            "text/plain": "{'copy_X': True, 'fit_intercept': True, 'n_jobs': None, 'normalize': False}"
          },
          "metadata": {}
        }
      ],
      "execution_count": 25,
      "metadata": {
        "jupyter": {
          "source_hidden": false,
          "outputs_hidden": false
        },
        "nteract": {
          "transient": {
            "deleting": false
          }
        },
        "gather": {
          "logged": 1649767607203
        }
      }
    },
    {
      "cell_type": "code",
      "source": [
        "#import pickle ile pickle (dumps ve loads) formata çevirilebilir. böylece db ye basabilirz."
      ],
      "outputs": [],
      "execution_count": 26,
      "metadata": {
        "jupyter": {
          "source_hidden": false,
          "outputs_hidden": false
        },
        "nteract": {
          "transient": {
            "deleting": false
          }
        },
        "gather": {
          "logged": 1649767645740
        }
      }
    },
    {
      "cell_type": "code",
      "source": [
        "import joblib\r\n",
        "\r\n",
        "joblib.dump(value=model, filename=\"model_v1.pkl\")"
      ],
      "outputs": [
        {
          "output_type": "execute_result",
          "execution_count": 27,
          "data": {
            "text/plain": "['model_v1.pkl']"
          },
          "metadata": {}
        }
      ],
      "execution_count": 27,
      "metadata": {
        "jupyter": {
          "source_hidden": false,
          "outputs_hidden": false
        },
        "nteract": {
          "transient": {
            "deleting": false
          }
        },
        "gather": {
          "logged": 1649767685397
        }
      }
    },
    {
      "cell_type": "code",
      "source": [
        "#\r\n",
        "modelLR =joblib.load(\"model_v1.pkl\")\r\n",
        "\r\n",
        "modelLR.predict(X_test[:5])"
      ],
      "outputs": [
        {
          "output_type": "execute_result",
          "execution_count": 28,
          "data": {
            "text/plain": "array([113.        ,  97.49818182,  46.4       ,  53.6       ])"
          },
          "metadata": {}
        }
      ],
      "execution_count": 28,
      "metadata": {
        "jupyter": {
          "source_hidden": false,
          "outputs_hidden": false
        },
        "nteract": {
          "transient": {
            "deleting": false
          }
        },
        "gather": {
          "logged": 1649767728376
        }
      }
    },
    {
      "cell_type": "code",
      "source": [],
      "outputs": [],
      "execution_count": null,
      "metadata": {
        "jupyter": {
          "source_hidden": false,
          "outputs_hidden": false
        },
        "nteract": {
          "transient": {
            "deleting": false
          }
        }
      }
    }
  ],
  "metadata": {
    "kernelspec": {
      "name": "python38-azureml",
      "language": "python",
      "display_name": "Python 3.8 - AzureML"
    },
    "language_info": {
      "name": "python",
      "version": "3.8.5",
      "mimetype": "text/x-python",
      "codemirror_mode": {
        "name": "ipython",
        "version": 3
      },
      "pygments_lexer": "ipython3",
      "nbconvert_exporter": "python",
      "file_extension": ".py"
    },
    "kernel_info": {
      "name": "python38-azureml"
    },
    "nteract": {
      "version": "nteract-front-end@1.0.0"
    }
  },
  "nbformat": 4,
  "nbformat_minor": 2
}