{
 "cells": [
  {
   "cell_type": "markdown",
   "metadata": {
    "gather": {
     "logged": 1649765020825
    }
   },
   "source": [
    "## İklim Değişikliği Hakkında Analiz\n",
    "* geçmiş yılların verilerini analiz edelim\n",
    "* **numpy** ile `polyfit`\n",
    "* **sklearn** ile `LinearRegression`"
   ]
  },
  {
   "cell_type": "markdown",
   "metadata": {
    "jupyter": {
     "outputs_hidden": false,
     "source_hidden": false
    },
    "nteract": {
     "transient": {
      "deleting": false
     }
    }
   },
   "source": [
    "### Kaynağı Okuyalım"
   ]
  },
  {
   "cell_type": "code",
   "execution_count": 16,
   "metadata": {},
   "outputs": [],
   "source": [
    "import numpy as np\n",
    "import matplotlib.pyplot as plt"
   ]
  },
  {
   "cell_type": "code",
   "execution_count": 15,
   "metadata": {},
   "outputs": [
    {
     "data": {
      "text/plain": [
       "dtype('int64')"
      ]
     },
     "execution_count": 15,
     "metadata": {},
     "output_type": "execute_result"
    }
   ],
   "source": [
    "years, means=np.loadtxt(\"https://raw.githubusercontent.com/abdullahkise/kdb100/main/3_Intro_notebook/iklim/5-year-mean-1951-1980.csv\",\n",
    "          delimiter=\",\",\n",
    "          unpack=True\n",
    "          )\n",
    "\n",
    "#-\n",
    "years.dtype\n",
    "\n",
    "years = years.astype(int)\n",
    "\n",
    "years.dtype"
   ]
  },
  {
   "cell_type": "markdown",
   "metadata": {},
   "source": [
    "### Görselleştirelim"
   ]
  },
  {
   "cell_type": "code",
   "execution_count": 19,
   "metadata": {},
   "outputs": [
    {
     "data": {
      "image/png": "[encoded data removed]",
      "text/plain": [
       "<Figure size 432x288 with 1 Axes>"
      ]
     },
     "metadata": {
      "needs_background": "light"
     },
     "output_type": "display_data"
    }
   ],
   "source": [
    "plt.scatter(years, means)\n",
    "\n",
    "plt.title(\"Yıllara Göre Sıcaklıktaki Sapma\")\n",
    "plt.xlabel(\"Yıllar\")\n",
    "plt.ylabel(\"Ortalama\")\n",
    "\n",
    "plt.show()"
   ]
  },
  {
   "cell_type": "markdown",
   "metadata": {},
   "source": [
    "#### trend çizgisini çizelim (nump)\n"
   ]
  },
  {
   "cell_type": "code",
   "execution_count": 21,
   "metadata": {},
   "outputs": [
    {
     "name": "stdout",
     "output_type": "stream",
     "text": [
      "y = 0.007279199110122247x + -14.309265850945273\n"
     ]
    }
   ],
   "source": [
    "#y = mx + b\n",
    "m,b=np.polyfit(years, means, deg=1)\n",
    "\n",
    "print(f\"y = {m}x + {b}\")"
   ]
  },
  {
   "cell_type": "code",
   "execution_count": 22,
   "metadata": {},
   "outputs": [],
   "source": [
    "#trend çizgisi üzerindek y'leri veren fnk tanımlayalım\n",
    "f=lambda x: m*x + b"
   ]
  },
  {
   "cell_type": "code",
   "execution_count": 29,
   "metadata": {},
   "outputs": [
    {
     "data": {
      "text/plain": [
       "0.40927474972191114"
      ]
     },
     "execution_count": 29,
     "metadata": {},
     "output_type": "execute_result"
    }
   ],
   "source": [
    "f(2022) #2022 yılında tahmini sapma"
   ]
  },
  {
   "cell_type": "code",
   "execution_count": 28,
   "metadata": {},
   "outputs": [
    {
     "data": {
      "image/png": "[encoded data removed]",
      "text/plain": [
       "<Figure size 432x288 with 1 Axes>"
      ]
     },
     "metadata": {
      "needs_background": "light"
     },
     "output_type": "display_data"
    }
   ],
   "source": [
    "#trend çizgisi\n",
    "plt.plot(years, f(years), color=\"Red\")\n",
    "plt.scatter(years, means)\n",
    "\n",
    "plt.title(\"Yıllara Göre Sıcaklıktaki Sapma\")\n",
    "plt.xlabel(\"Yıllar\")\n",
    "plt.ylabel(\"Ortalama\")\n",
    "\n",
    "plt.show()"
   ]
  },
  {
   "cell_type": "markdown",
   "metadata": {},
   "source": [
    "### Sklearn ile Linear Regression"
   ]
  },
  {
   "cell_type": "code",
   "execution_count": 30,
   "metadata": {},
   "outputs": [],
   "source": [
    "from sklearn.linear_model import LinearRegression"
   ]
  },
  {
   "cell_type": "code",
   "execution_count": 34,
   "metadata": {},
   "outputs": [
    {
     "data": {
      "text/plain": [
       "2"
      ]
     },
     "execution_count": 34,
     "metadata": {},
     "output_type": "execute_result"
    }
   ],
   "source": [
    "years.shape\n",
    "years.ndim\n",
    "years[:,np.newaxis].ndim"
   ]
  },
  {
   "cell_type": "code",
   "execution_count": 40,
   "metadata": {},
   "outputs": [
    {
     "name": "stdout",
     "output_type": "stream",
     "text": [
      "y = [0.0072792]x + -14.30926585094549\n",
      "CPU times: user 0 ns, sys: 2.11 ms, total: 2.11 ms\n",
      "Wall time: 1.59 ms\n"
     ]
    }
   ],
   "source": [
    "%%time\n",
    "#\n",
    "model = LinearRegression()\n",
    "\n",
    "#\n",
    "model.fit(years[:,np.newaxis], means) #eğitim başladı ve bitti\n",
    "#dir(model)\n",
    "\n",
    "print(f\"y = {model.coef_}x + {model.intercept_}\")"
   ]
  },
  {
   "cell_type": "code",
   "execution_count": 48,
   "metadata": {},
   "outputs": [
    {
     "data": {
      "text/plain": [
       "array([-0.10754839, -0.10026919, -0.09298999, -0.08571079, -0.07843159,\n",
       "       -0.07115239, -0.06387319, -0.05659399, -0.04931479, -0.0420356 ,\n",
       "       -0.0347564 , -0.0274772 , -0.020198  , -0.0129188 , -0.0056396 ,\n",
       "        0.0016396 ,  0.0089188 ,  0.016198  ,  0.0234772 ,  0.0307564 ,\n",
       "        0.0380356 ,  0.04531479,  0.05259399,  0.05987319,  0.06715239,\n",
       "        0.07443159,  0.08171079,  0.08898999,  0.09626919,  0.10354839])"
      ]
     },
     "execution_count": 48,
     "metadata": {},
     "output_type": "execute_result"
    }
   ],
   "source": [
    "#tahminleri alalım.\n",
    "model_predicted = model.predict(years[:,np.newaxis])\n",
    "model_predicted"
   ]
  },
  {
   "cell_type": "code",
   "execution_count": 47,
   "metadata": {},
   "outputs": [
    {
     "data": {
      "text/plain": [
       "array([0.40927475, 0.43111235])"
      ]
     },
     "execution_count": 47,
     "metadata": {},
     "output_type": "execute_result"
    }
   ],
   "source": [
    "#np.array([ [2022],[2025]]).ndim\n",
    "model.predict(np.array([ [2022],[2025]]))"
   ]
  },
  {
   "cell_type": "code",
   "execution_count": 49,
   "metadata": {},
   "outputs": [
    {
     "data": {
      "image/png": "[encoded data removed]",
      "text/plain": [
       "<Figure size 432x288 with 1 Axes>"
      ]
     },
     "metadata": {
      "needs_background": "light"
     },
     "output_type": "display_data"
    }
   ],
   "source": [
    "#Lİnear Regression çizgisi\n",
    "plt.plot(years, model_predicted, color=\"Red\")\n",
    "plt.scatter(years, means)\n",
    "\n",
    "plt.title(\"Yıllara Göre Sıcaklıktaki Sapma\")\n",
    "plt.xlabel(\"Yıllar\")\n",
    "plt.ylabel(\"Ortalama\")\n",
    "\n",
    "plt.show()"
   ]
  }
 ],
 "metadata": {
  "kernel_info": {
   "name": "python38-azureml"
  },
  "kernelspec": {
   "display_name": "Python 3.8 - AzureML",
   "language": "python",
   "name": "python38-azureml"
  },
  "language_info": {
   "codemirror_mode": {
    "name": "ipython",
    "version": 3
   },
   "file_extension": ".py",
   "mimetype": "text/x-python",
   "name": "python",
   "nbconvert_exporter": "python",
   "pygments_lexer": "ipython3",
   "version": "3.8.5"
  },
  "nteract": {
   "version": "nteract-front-end@1.0.0"
  }
 },
 "nbformat": 4,
 "nbformat_minor": 2
}
